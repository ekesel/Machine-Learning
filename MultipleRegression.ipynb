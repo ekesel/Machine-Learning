{
  "nbformat": 4,
  "nbformat_minor": 0,
  "metadata": {
    "colab": {
      "name": "MultipleRegression.ipynb",
      "provenance": [],
      "collapsed_sections": []
    },
    "kernelspec": {
      "name": "python3",
      "display_name": "Python 3"
    }
  },
  "cells": [
    {
      "cell_type": "code",
      "metadata": {
        "id": "MxWIzs_4whl2",
        "colab_type": "code",
        "colab": {}
      },
      "source": [
        "import numpy as np\n",
        "import pandas as pd\n",
        "import matplotlib.pyplot as plt\n",
        "import warnings\n",
        "warnings.filterwarnings('ignore')"
      ],
      "execution_count": 0,
      "outputs": []
    },
    {
      "cell_type": "code",
      "metadata": {
        "id": "MhQ9VRjCxQJn",
        "colab_type": "code",
        "colab": {}
      },
      "source": [
        "data = pd.read_csv(\"project data.csv\")\n",
        "data.dtypes\n",
        "data = data.set_index(['Date'])\n",
        "vol = data['Vol.']\n",
        "a=vol[0].strip().split()\n",
        "data['Vol.'] = data['Vol.'].fillna(0.0)"
      ],
      "execution_count": 0,
      "outputs": []
    },
    {
      "cell_type": "code",
      "metadata": {
        "id": "DVfKm7q3xaIA",
        "colab_type": "code",
        "colab": {}
      },
      "source": [
        "for i in range(data['Vol.'].shape[0]):\n",
        "    #print(data['Vol.'][i])\n",
        "    if type(data['Vol.'][i]) != float and data['Vol.'][i].endswith('M'):\n",
        "        data['Vol.'][i] = data['Vol.'][i][:-1]\n",
        "        #print(data['Vol.'][i])\n",
        "    else:\n",
        "        data['Vol.'][i] = data['Vol.'][i]\n",
        "        #print(data['Vol.'][i])"
      ],
      "execution_count": 0,
      "outputs": []
    },
    {
      "cell_type": "code",
      "metadata": {
        "id": "TJxE5Jmdxcu6",
        "colab_type": "code",
        "colab": {}
      },
      "source": [
        "for i in range(data['Change %'].shape[0]):\n",
        "    #print(data['Vol.'][i])\n",
        "    if type(data['Change %'][i]) != float and data['Change %'][i].endswith('%'):\n",
        "        data['Change %'][i] = data['Change %'][i][:-1]\n",
        "        #print(data['Vol.'][i])\n",
        "    else:\n",
        "        data['Change %'][i] = data['Change %'][i]\n",
        "        #print(data['Vol.'][i])"
      ],
      "execution_count": 0,
      "outputs": []
    },
    {
      "cell_type": "code",
      "metadata": {
        "id": "Plk_z-YQxfP5",
        "colab_type": "code",
        "colab": {}
      },
      "source": [
        "X = data.iloc[:,:-1].values\n",
        "y = data.iloc[:, -1].values"
      ],
      "execution_count": 0,
      "outputs": []
    },
    {
      "cell_type": "code",
      "metadata": {
        "id": "LTb0yEtxxh_G",
        "colab_type": "code",
        "colab": {
          "base_uri": "https://localhost:8080/",
          "height": 34
        },
        "outputId": "7c76af85-00c3-4ef2-957c-9b88d4b9aa78"
      },
      "source": [
        "data.shape, X.shape, y.shape"
      ],
      "execution_count": 25,
      "outputs": [
        {
          "output_type": "execute_result",
          "data": {
            "text/plain": [
              "((265, 6), (265, 5), (265,))"
            ]
          },
          "metadata": {
            "tags": []
          },
          "execution_count": 25
        }
      ]
    },
    {
      "cell_type": "code",
      "metadata": {
        "id": "O8RBvfvYxkKh",
        "colab_type": "code",
        "colab": {}
      },
      "source": [
        "from sklearn.model_selection import train_test_split\n",
        "X_train, X_test, y_train, y_test = train_test_split(X, y, test_size=0.25,random_state=1)"
      ],
      "execution_count": 0,
      "outputs": []
    },
    {
      "cell_type": "code",
      "metadata": {
        "id": "rCnAJed8xxPN",
        "colab_type": "code",
        "colab": {
          "base_uri": "https://localhost:8080/",
          "height": 34
        },
        "outputId": "5f16c42a-cf29-4a8a-df4e-b1bfafdc27d1"
      },
      "source": [
        "from sklearn.linear_model import LinearRegression\n",
        "regressor = LinearRegression()\n",
        "regressor.fit(X_train,y_train)"
      ],
      "execution_count": 29,
      "outputs": [
        {
          "output_type": "execute_result",
          "data": {
            "text/plain": [
              "LinearRegression(copy_X=True, fit_intercept=True, n_jobs=None, normalize=False)"
            ]
          },
          "metadata": {
            "tags": []
          },
          "execution_count": 29
        }
      ]
    },
    {
      "cell_type": "code",
      "metadata": {
        "id": "8_O_OobJzl7R",
        "colab_type": "code",
        "colab": {}
      },
      "source": [
        "y_pred = regressor.predict(X_test)\n",
        "y_pred = y_pred.reshape(-1,1)"
      ],
      "execution_count": 0,
      "outputs": []
    },
    {
      "cell_type": "code",
      "metadata": {
        "id": "cqwI4S1Kx_k7",
        "colab_type": "code",
        "colab": {
          "base_uri": "https://localhost:8080/",
          "height": 34
        },
        "outputId": "25d0d7ba-71d0-4de2-dc53-6f38ec56f030"
      },
      "source": [
        "from sklearn.metrics import mean_squared_error, r2_score\n",
        "mean_squared_error(y_pred, y_test)"
      ],
      "execution_count": 32,
      "outputs": [
        {
          "output_type": "execute_result",
          "data": {
            "text/plain": [
              "0.7845891932977765"
            ]
          },
          "metadata": {
            "tags": []
          },
          "execution_count": 32
        }
      ]
    },
    {
      "cell_type": "code",
      "metadata": {
        "id": "Le3Ko3lMztdz",
        "colab_type": "code",
        "colab": {
          "base_uri": "https://localhost:8080/",
          "height": 34
        },
        "outputId": "fb6b42d4-1172-4248-9362-99d6f7e49c59"
      },
      "source": [
        "r2_score(y_pred, y_test)"
      ],
      "execution_count": 33,
      "outputs": [
        {
          "output_type": "execute_result",
          "data": {
            "text/plain": [
              "0.8506737822256893"
            ]
          },
          "metadata": {
            "tags": []
          },
          "execution_count": 33
        }
      ]
    },
    {
      "cell_type": "code",
      "metadata": {
        "id": "vaT5fwKfz3-R",
        "colab_type": "code",
        "colab": {}
      },
      "source": [
        "#Implementing Multiple Regression in SBI Stock market data\n",
        "#This algorithm is not suitable for this data as its mean square value is not good."
      ],
      "execution_count": 0,
      "outputs": []
    }
  ]
}