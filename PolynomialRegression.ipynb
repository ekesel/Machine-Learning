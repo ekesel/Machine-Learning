{
  "nbformat": 4,
  "nbformat_minor": 0,
  "metadata": {
    "colab": {
      "name": "PolynomialRegression.ipynb",
      "provenance": [],
      "collapsed_sections": []
    },
    "kernelspec": {
      "name": "python3",
      "display_name": "Python 3"
    }
  },
  "cells": [
    {
      "cell_type": "code",
      "metadata": {
        "id": "UEwv0rnZt0_w",
        "colab_type": "code",
        "colab": {}
      },
      "source": [
        "import pandas as pd\n",
        "import numpy as np\n",
        "import warnings\n",
        "warnings.filterwarnings('ignore')"
      ],
      "execution_count": 0,
      "outputs": []
    },
    {
      "cell_type": "code",
      "metadata": {
        "id": "H4P_6mzBuF8C",
        "colab_type": "code",
        "colab": {}
      },
      "source": [
        "data = pd.read_csv(\"project data.csv\")\n",
        "data.dtypes\n",
        "data = data.set_index(['Date'])\n",
        "vol = data['Vol.']\n",
        "a=vol[0].strip().split()\n",
        "data['Vol.'] = data['Vol.'].fillna(0.0)"
      ],
      "execution_count": 0,
      "outputs": []
    },
    {
      "cell_type": "code",
      "metadata": {
        "id": "3iUEg_AbuYld",
        "colab_type": "code",
        "colab": {}
      },
      "source": [
        "for i in range(data['Vol.'].shape[0]):\n",
        "    #print(data['Vol.'][i])\n",
        "    if type(data['Vol.'][i]) != float and data['Vol.'][i].endswith('M'):\n",
        "        data['Vol.'][i] = data['Vol.'][i][:-1]\n",
        "        #print(data['Vol.'][i])\n",
        "    else:\n",
        "        data['Vol.'][i] = data['Vol.'][i]\n",
        "        #print(data['Vol.'][i])"
      ],
      "execution_count": 0,
      "outputs": []
    },
    {
      "cell_type": "code",
      "metadata": {
        "id": "oRWQinznuZVe",
        "colab_type": "code",
        "colab": {}
      },
      "source": [
        "for i in range(data['Change %'].shape[0]):\n",
        "    #print(data['Vol.'][i])\n",
        "    if type(data['Change %'][i]) != float and data['Change %'][i].endswith('%'):\n",
        "        data['Change %'][i] = data['Change %'][i][:-1]\n",
        "        #print(data['Vol.'][i])\n",
        "    else:\n",
        "        data['Change %'][i] = data['Change %'][i]\n",
        "        #print(data['Vol.'][i])"
      ],
      "execution_count": 0,
      "outputs": []
    },
    {
      "cell_type": "code",
      "metadata": {
        "id": "cljBG01ruekq",
        "colab_type": "code",
        "colab": {}
      },
      "source": [
        "X = data.iloc[:,:-1].values\n",
        "y = data.iloc[:, -1].values"
      ],
      "execution_count": 0,
      "outputs": []
    },
    {
      "cell_type": "code",
      "metadata": {
        "id": "e8MS7PYvuhFx",
        "colab_type": "code",
        "colab": {
          "base_uri": "https://localhost:8080/",
          "height": 34
        },
        "outputId": "11531d89-65e8-4be2-e65d-eef70565c783"
      },
      "source": [
        "data.shape, X.shape, y.shape"
      ],
      "execution_count": 38,
      "outputs": [
        {
          "output_type": "execute_result",
          "data": {
            "text/plain": [
              "((265, 6), (265, 5), (265,))"
            ]
          },
          "metadata": {
            "tags": []
          },
          "execution_count": 38
        }
      ]
    },
    {
      "cell_type": "code",
      "metadata": {
        "id": "rWf_0ZoZuku7",
        "colab_type": "code",
        "colab": {}
      },
      "source": [
        "from sklearn.model_selection import train_test_split\n",
        "X_train, X_test, y_train, y_test = train_test_split(X, y, test_size=0.05,random_state=0)"
      ],
      "execution_count": 0,
      "outputs": []
    },
    {
      "cell_type": "code",
      "metadata": {
        "id": "V_Rd-0kOurSB",
        "colab_type": "code",
        "colab": {}
      },
      "source": [
        "from sklearn.preprocessing import StandardScaler\n",
        "\n",
        "sc = StandardScaler()\n",
        "X = sc.fit_transform(X)"
      ],
      "execution_count": 0,
      "outputs": []
    },
    {
      "cell_type": "code",
      "metadata": {
        "id": "MyhC5sRiuwHn",
        "colab_type": "code",
        "colab": {}
      },
      "source": [
        "from sklearn.preprocessing import PolynomialFeatures\n",
        "\n",
        "X_poly = PolynomialFeatures(degree=4)\n",
        "X_ = X_poly.fit_transform(X)"
      ],
      "execution_count": 0,
      "outputs": []
    },
    {
      "cell_type": "code",
      "metadata": {
        "id": "dR0cFgtyu1yL",
        "colab_type": "code",
        "colab": {}
      },
      "source": [
        "from sklearn.linear_model import LinearRegression\n",
        "lr = LinearRegression()\n",
        "lr.fit(X_, y)\n",
        "y_pred = lr.predict(X_)\n",
        "X_sort = np.sort(X, axis = None)\n",
        "X_sort = X_sort.reshape((-1, 1))"
      ],
      "execution_count": 0,
      "outputs": []
    },
    {
      "cell_type": "code",
      "metadata": {
        "id": "X4Ua2toPvC_Y",
        "colab_type": "code",
        "colab": {
          "base_uri": "https://localhost:8080/",
          "height": 34
        },
        "outputId": "2a1b7162-2825-4980-96c2-0a82da96ec23"
      },
      "source": [
        "from sklearn.metrics import mean_squared_error, r2_score\n",
        "mean_squared_error(y_pred, y)"
      ],
      "execution_count": 43,
      "outputs": [
        {
          "output_type": "execute_result",
          "data": {
            "text/plain": [
              "0.28408052902248676"
            ]
          },
          "metadata": {
            "tags": []
          },
          "execution_count": 43
        }
      ]
    },
    {
      "cell_type": "code",
      "metadata": {
        "id": "LLcs1bYqvVtG",
        "colab_type": "code",
        "colab": {
          "base_uri": "https://localhost:8080/",
          "height": 34
        },
        "outputId": "1b2882d3-ffc3-49cb-9a43-60826c790a2c"
      },
      "source": [
        "r2_score(y_pred, y)"
      ],
      "execution_count": 44,
      "outputs": [
        {
          "output_type": "execute_result",
          "data": {
            "text/plain": [
              "0.9385155252459348"
            ]
          },
          "metadata": {
            "tags": []
          },
          "execution_count": 44
        }
      ]
    },
    {
      "cell_type": "code",
      "metadata": {
        "id": "DlX96Wj9vhsW",
        "colab_type": "code",
        "colab": {}
      },
      "source": [
        "#Implementing the Polynomial Regression on SBI stock Market data.\n",
        "#This algorithm is suitable for this data as the mean square value is close to zero and r2 score is close to 1.\n",
        "#This algorithm is not perfect model for this data."
      ],
      "execution_count": 0,
      "outputs": []
    }
  ]
}