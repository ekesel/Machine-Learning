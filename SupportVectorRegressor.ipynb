{
  "nbformat": 4,
  "nbformat_minor": 0,
  "metadata": {
    "colab": {
      "name": "SupportVectorRegressor.ipynb",
      "provenance": [],
      "collapsed_sections": []
    },
    "kernelspec": {
      "name": "python3",
      "display_name": "Python 3"
    }
  },
  "cells": [
    {
      "cell_type": "code",
      "metadata": {
        "id": "qRfqYXz5_PCh",
        "colab_type": "code",
        "colab": {}
      },
      "source": [
        "import pandas as pd\n",
        "import numpy as np\n",
        "import warnings\n",
        "warnings.filterwarnings('ignore')"
      ],
      "execution_count": 0,
      "outputs": []
    },
    {
      "cell_type": "code",
      "metadata": {
        "id": "X3aJltxZBzLK",
        "colab_type": "code",
        "colab": {}
      },
      "source": [
        "data = pd.read_csv(\"project data.csv\")\n",
        "data.dtypes\n",
        "data = data.set_index(['Date'])\n",
        "vol = data['Vol.']\n",
        "a=vol[0].strip().split()\n",
        "data['Vol.'] = data['Vol.'].fillna(0.0)"
      ],
      "execution_count": 0,
      "outputs": []
    },
    {
      "cell_type": "code",
      "metadata": {
        "id": "KYjIE1PhrVB1",
        "colab_type": "code",
        "colab": {}
      },
      "source": [
        "for i in range(data['Vol.'].shape[0]):\n",
        "    #print(data['Vol.'][i])\n",
        "    if type(data['Vol.'][i]) != float and data['Vol.'][i].endswith('M'):\n",
        "        data['Vol.'][i] = data['Vol.'][i][:-1]\n",
        "        #print(data['Vol.'][i])\n",
        "    else:\n",
        "        data['Vol.'][i] = data['Vol.'][i]\n",
        "        #print(data['Vol.'][i])"
      ],
      "execution_count": 0,
      "outputs": []
    },
    {
      "cell_type": "code",
      "metadata": {
        "id": "CW8EA4WkrXpk",
        "colab_type": "code",
        "colab": {}
      },
      "source": [
        "for i in range(data['Change %'].shape[0]):\n",
        "    #print(data['Vol.'][i])\n",
        "    if type(data['Change %'][i]) != float and data['Change %'][i].endswith('%'):\n",
        "        data['Change %'][i] = data['Change %'][i][:-1]\n",
        "        #print(data['Vol.'][i])\n",
        "    else:\n",
        "        data['Change %'][i] = data['Change %'][i]\n",
        "        #print(data['Vol.'][i])"
      ],
      "execution_count": 0,
      "outputs": []
    },
    {
      "cell_type": "code",
      "metadata": {
        "id": "ZOH9bbt8BzJK",
        "colab_type": "code",
        "colab": {}
      },
      "source": [
        "X = data.iloc[:,:-1].values\n",
        "y = data.iloc[:, -1].values"
      ],
      "execution_count": 0,
      "outputs": []
    },
    {
      "cell_type": "code",
      "metadata": {
        "id": "UqEsajfwrd1p",
        "colab_type": "code",
        "colab": {
          "base_uri": "https://localhost:8080/",
          "height": 34
        },
        "outputId": "0b41687e-8f35-409f-85d2-6ea0e98e00df"
      },
      "source": [
        "data.shape, X.shape, y.shape"
      ],
      "execution_count": 32,
      "outputs": [
        {
          "output_type": "execute_result",
          "data": {
            "text/plain": [
              "((265, 6), (265, 5), (265,))"
            ]
          },
          "metadata": {
            "tags": []
          },
          "execution_count": 32
        }
      ]
    },
    {
      "cell_type": "code",
      "metadata": {
        "id": "KGCur-B7rgeN",
        "colab_type": "code",
        "colab": {}
      },
      "source": [
        "from sklearn.model_selection import train_test_split\n",
        "X_train, X_test, y_train, y_test = train_test_split(X, y, test_size=0.05,random_state=0)"
      ],
      "execution_count": 0,
      "outputs": []
    },
    {
      "cell_type": "code",
      "metadata": {
        "id": "NFAwkWS_BzGn",
        "colab_type": "code",
        "colab": {
          "base_uri": "https://localhost:8080/",
          "height": 67
        },
        "outputId": "39c5543f-bed5-4bf3-c299-d69c2fd88cca"
      },
      "source": [
        "from sklearn.svm import SVR\n",
        "svr = SVR()\n",
        "svr.fit(X,y)"
      ],
      "execution_count": 34,
      "outputs": [
        {
          "output_type": "execute_result",
          "data": {
            "text/plain": [
              "SVR(C=1.0, cache_size=200, coef0=0.0, degree=3, epsilon=0.1,\n",
              "    gamma='auto_deprecated', kernel='rbf', max_iter=-1, shrinking=True,\n",
              "    tol=0.001, verbose=False)"
            ]
          },
          "metadata": {
            "tags": []
          },
          "execution_count": 34
        }
      ]
    },
    {
      "cell_type": "code",
      "metadata": {
        "id": "mCh3Cn58BzD4",
        "colab_type": "code",
        "colab": {
          "base_uri": "https://localhost:8080/",
          "height": 34
        },
        "outputId": "98ee0226-bdb7-4ee8-e435-0299128f3176"
      },
      "source": [
        "y_pred=svr.predict(X)\n",
        "from sklearn.metrics import mean_squared_error, r2_score\n",
        "mean_squared_error(y_pred, y)"
      ],
      "execution_count": 35,
      "outputs": [
        {
          "output_type": "execute_result",
          "data": {
            "text/plain": [
              "2.3916483699189506"
            ]
          },
          "metadata": {
            "tags": []
          },
          "execution_count": 35
        }
      ]
    },
    {
      "cell_type": "code",
      "metadata": {
        "id": "-8D_5QAaBy6f",
        "colab_type": "code",
        "colab": {
          "base_uri": "https://localhost:8080/",
          "height": 34
        },
        "outputId": "c77a2551-c9f3-4f01-8875-0cb9e03a77e1"
      },
      "source": [
        "r2_score(y_pred, y)"
      ],
      "execution_count": 36,
      "outputs": [
        {
          "output_type": "execute_result",
          "data": {
            "text/plain": [
              "-2.4944593898873015"
            ]
          },
          "metadata": {
            "tags": []
          },
          "execution_count": 36
        }
      ]
    },
    {
      "cell_type": "code",
      "metadata": {
        "id": "vCe5RYsmBy2f",
        "colab_type": "code",
        "colab": {
          "base_uri": "https://localhost:8080/",
          "height": 265
        },
        "outputId": "be0ab3b3-57f8-463a-fb93-05c9b94389d1"
      },
      "source": [
        "import matplotlib.pyplot as plt\n",
        "plt.scatter(y_pred, y)\n",
        "plt.show()"
      ],
      "execution_count": 37,
      "outputs": [
        {
          "output_type": "display_data",
          "data": {
            "image/png": "[encoded data removed]",
            "text/plain": [
              "<Figure size 432x288 with 1 Axes>"
            ]
          },
          "metadata": {
            "tags": []
          }
        }
      ]
    },
    {
      "cell_type": "code",
      "metadata": {
        "id": "oY-7XqQ6s3dv",
        "colab_type": "code",
        "colab": {}
      },
      "source": [
        "#Implementing the Support Vector Regressor Algorithm in SBI stock Market Data.\n",
        "#This algorithm is not suitable for this type of data because of mean square value not close to zero."
      ],
      "execution_count": 0,
      "outputs": []
    }
  ]
}