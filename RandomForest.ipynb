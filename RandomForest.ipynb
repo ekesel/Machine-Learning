{
  "nbformat": 4,
  "nbformat_minor": 0,
  "metadata": {
    "colab": {
      "name": "RandomForest.ipynb",
      "provenance": [],
      "collapsed_sections": []
    },
    "kernelspec": {
      "name": "python3",
      "display_name": "Python 3"
    }
  },
  "cells": [
    {
      "cell_type": "code",
      "metadata": {
        "id": "-sCrNR4b7vk7",
        "colab_type": "code",
        "colab": {}
      },
      "source": [
        "import pandas as pd\n",
        "import numpy as np\n",
        "import warnings\n",
        "warnings.filterwarnings('ignore')"
      ],
      "execution_count": 0,
      "outputs": []
    },
    {
      "cell_type": "code",
      "metadata": {
        "id": "LXPis8479YBY",
        "colab_type": "code",
        "colab": {}
      },
      "source": [
        "data = pd.read_csv(\"/content/project data.csv\")\n",
        "data.dtypes\n",
        "data = data.set_index(['Date'])\n",
        "vol = data['Vol.']\n",
        "a=vol[0].strip().split()\n",
        "data['Vol.'] = data['Vol.'].fillna(0.0)"
      ],
      "execution_count": 0,
      "outputs": []
    },
    {
      "cell_type": "code",
      "metadata": {
        "id": "LhoCGQ2BHgtx",
        "colab_type": "code",
        "colab": {}
      },
      "source": [
        "for i in range(data['Vol.'].shape[0]):\n",
        "    #print(data['Vol.'][i])\n",
        "    if type(data['Vol.'][i]) != float and data['Vol.'][i].endswith('M'):\n",
        "        data['Vol.'][i] = data['Vol.'][i][:-1]\n",
        "        #print(data['Vol.'][i])\n",
        "    else:\n",
        "        data['Vol.'][i] = data['Vol.'][i]\n",
        "        #print(data['Vol.'][i])"
      ],
      "execution_count": 0,
      "outputs": []
    },
    {
      "cell_type": "code",
      "metadata": {
        "id": "mLfeqO17o2L4",
        "colab_type": "code",
        "colab": {}
      },
      "source": [
        "for i in range(data['Change %'].shape[0]):\n",
        "    #print(data['Vol.'][i])\n",
        "    if type(data['Change %'][i]) != float and data['Change %'][i].endswith('%'):\n",
        "        data['Change %'][i] = data['Change %'][i][:-1]\n",
        "        #print(data['Vol.'][i])\n",
        "    else:\n",
        "        data['Change %'][i] = data['Change %'][i]\n",
        "        #print(data['Vol.'][i])"
      ],
      "execution_count": 0,
      "outputs": []
    },
    {
      "cell_type": "code",
      "metadata": {
        "id": "NfB6tb6V9X1K",
        "colab_type": "code",
        "colab": {}
      },
      "source": [
        "X = data.iloc[:,:-1].values\n",
        "y = data.iloc[:, -1].values"
      ],
      "execution_count": 0,
      "outputs": []
    },
    {
      "cell_type": "code",
      "metadata": {
        "id": "S2M8WYhao-Dq",
        "colab_type": "code",
        "colab": {
          "base_uri": "https://localhost:8080/",
          "height": 34
        },
        "outputId": "bfc0a35a-a641-45f2-9c95-86c9f03f1c2d"
      },
      "source": [
        "data.shape, X.shape, y.shape"
      ],
      "execution_count": 19,
      "outputs": [
        {
          "output_type": "execute_result",
          "data": {
            "text/plain": [
              "((265, 6), (265, 5), (265,))"
            ]
          },
          "metadata": {
            "tags": []
          },
          "execution_count": 19
        }
      ]
    },
    {
      "cell_type": "code",
      "metadata": {
        "id": "tDKjq2E7pEvq",
        "colab_type": "code",
        "colab": {}
      },
      "source": [
        "from sklearn.model_selection import train_test_split\n",
        "X_train, X_test, y_train, y_test = train_test_split(X, y, test_size=0.05,random_state=0)"
      ],
      "execution_count": 0,
      "outputs": []
    },
    {
      "cell_type": "code",
      "metadata": {
        "id": "jdkb_yfc9Xrx",
        "colab_type": "code",
        "colab": {
          "base_uri": "https://localhost:8080/",
          "height": 134
        },
        "outputId": "a15da865-2783-46a3-aea6-76340e71dc70"
      },
      "source": [
        "from sklearn.ensemble import RandomForestRegressor\n",
        "rf = RandomForestRegressor(n_estimators=10)\n",
        "rf.fit(X,y)"
      ],
      "execution_count": 21,
      "outputs": [
        {
          "output_type": "execute_result",
          "data": {
            "text/plain": [
              "RandomForestRegressor(bootstrap=True, criterion='mse', max_depth=None,\n",
              "                      max_features='auto', max_leaf_nodes=None,\n",
              "                      min_impurity_decrease=0.0, min_impurity_split=None,\n",
              "                      min_samples_leaf=1, min_samples_split=2,\n",
              "                      min_weight_fraction_leaf=0.0, n_estimators=10,\n",
              "                      n_jobs=None, oob_score=False, random_state=None,\n",
              "                      verbose=0, warm_start=False)"
            ]
          },
          "metadata": {
            "tags": []
          },
          "execution_count": 21
        }
      ]
    },
    {
      "cell_type": "code",
      "metadata": {
        "id": "FLwjZGeG9XmJ",
        "colab_type": "code",
        "colab": {
          "base_uri": "https://localhost:8080/",
          "height": 34
        },
        "outputId": "e9be3b87-1aa7-4337-844f-e0d93cb86b45"
      },
      "source": [
        "y_pred=rf.predict(X)\n",
        "from sklearn.metrics import mean_squared_error, r2_score\n",
        "mean_squared_error(y_pred, y)"
      ],
      "execution_count": 22,
      "outputs": [
        {
          "output_type": "execute_result",
          "data": {
            "text/plain": [
              "0.5481250264150943"
            ]
          },
          "metadata": {
            "tags": []
          },
          "execution_count": 22
        }
      ]
    },
    {
      "cell_type": "code",
      "metadata": {
        "id": "9k-GHiIh9Xfd",
        "colab_type": "code",
        "colab": {
          "base_uri": "https://localhost:8080/",
          "height": 34
        },
        "outputId": "7fa583d6-707d-4e86-a75e-62b5a4834cdb"
      },
      "source": [
        "r2_score(y_pred, y)"
      ],
      "execution_count": 23,
      "outputs": [
        {
          "output_type": "execute_result",
          "data": {
            "text/plain": [
              "0.8109458563851994"
            ]
          },
          "metadata": {
            "tags": []
          },
          "execution_count": 23
        }
      ]
    },
    {
      "cell_type": "code",
      "metadata": {
        "id": "js8gTxZY9XdA",
        "colab_type": "code",
        "colab": {
          "base_uri": "https://localhost:8080/",
          "height": 265
        },
        "outputId": "382353be-956b-490c-9f20-5cd8451dc0d5"
      },
      "source": [
        "import matplotlib.pyplot as plt\n",
        "plt.scatter(y_pred, y)\n",
        "plt.show()"
      ],
      "execution_count": 24,
      "outputs": [
        {
          "output_type": "display_data",
          "data": {
            "image/png": "[encoded data removed]",
            "text/plain": [
              "<Figure size 432x288 with 1 Axes>"
            ]
          },
          "metadata": {
            "tags": []
          }
        }
      ]
    },
    {
      "cell_type": "code",
      "metadata": {
        "id": "n2TW4qBy9Xa8",
        "colab_type": "code",
        "colab": {}
      },
      "source": [
        "#Implementing the Random Forest Algorithm on SBI stock market data. \n",
        "#The module is not perfect as still the mean square is not close to zero so we should use any other algorithm."
      ],
      "execution_count": 0,
      "outputs": []
    },
    {
      "cell_type": "code",
      "metadata": {
        "id": "Haeaxwev9XXv",
        "colab_type": "code",
        "colab": {}
      },
      "source": [
        ""
      ],
      "execution_count": 0,
      "outputs": []
    }
  ]
}